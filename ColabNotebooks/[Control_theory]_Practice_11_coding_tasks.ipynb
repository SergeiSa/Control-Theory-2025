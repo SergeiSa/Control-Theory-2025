{
  "nbformat": 4,
  "nbformat_minor": 0,
  "metadata": {
    "colab": {
      "provenance": []
    },
    "kernelspec": {
      "name": "python3",
      "display_name": "Python 3"
    },
    "language_info": {
      "name": "python"
    }
  },
  "cells": [
    {
      "cell_type": "markdown",
      "metadata": {
        "id": "udWvdz6UaPom"
      },
      "source": [
        "# **Practice 11**\n",
        "Content:\n",
        "1. Controllability and observability\n",
        "2. LQR, pole placement and observers design tasks"
      ]
    },
    {
      "cell_type": "code",
      "metadata": {
        "id": "rPZTA7jdaTk7"
      },
      "source": [
        "#@title Visualization function and libraries\n",
        "import matplotlib.pyplot as plt\n",
        "from scipy.integrate import odeint\n",
        "from scipy.signal import place_poles\n",
        "import numpy as np\n",
        "\n",
        "def plot_results(x,y,x_label=\"T\",y_label=\"X(T)\",plot_title=\"X=F(T)\",labels=[],xlim=None, ylim=None):\n",
        "  plt.grid(color='black', linestyle='--', linewidth=1.0, alpha = 0.7)\n",
        "  plt.grid(True)\n",
        "\n",
        "  plt.xlabel(x_label)\n",
        "  plt.ylabel(y_label)\n",
        "  plt.title(plot_title)\n",
        "\n",
        "  if type(y)!=type([]):\n",
        "    if len(labels)==0:\n",
        "      plt.plot(x,y,linewidth=2.)\n",
        "    else:\n",
        "      for i in range(len(labels)):\n",
        "        plt.plot(x,y[:,i],linewidth=2.,label=labels[i])\n",
        "      plt.legend()\n",
        "  else:\n",
        "    for i in range(len(y)):\n",
        "      if len(labels)==0:\n",
        "        plt.plot(x,y[i])\n",
        "      else:\n",
        "        if type(x)!=type([]):\n",
        "          plt.plot(x,y[i],linewidth=2.,label=labels[i])\n",
        "        else:\n",
        "          plt.plot(x[i],y[i],linewidth=2.,label=labels[i])\n",
        "    if len(labels)!=0:\n",
        "      plt.legend()\n",
        "\n",
        "    if xlim!=None:\n",
        "      plt.xlim(xlim)\n",
        "    if ylim!=None:\n",
        "      plt.ylim(ylim)\n",
        "\n",
        "  plt.show()\n",
        "  return"
      ],
      "execution_count": null,
      "outputs": []
    },
    {
      "cell_type": "markdown",
      "metadata": {
        "id": "0Rn1L7M9fM95"
      },
      "source": [
        "# **Controllability and observability**\n",
        "**Controllability**: In order to be able to do whatever we want with the given\n",
        "dynamic system under control input, the system must be controllable. Controllability matrix $\\mathbf{R}$:\n",
        "$$ \\mathbf{R} = \\begin{bmatrix} \\mathbf{B} & \\mathbf{AB} & \\mathbf{A}^2\\mathbf{B} & ... & \\mathbf{A}^{n-1}\\mathbf{B}\\end{bmatrix}$$ when $n$ is number of system states. So, the system is controllable if the controllability matrix has full row rank (i.e. $\\mathbf{rank}(\\mathbf{R})=n$)\n",
        "\n",
        "\n",
        "**Observability**: In order to see what is going on inside the system under observation, the system must be observable. Observability matrix $\\mathcal{O}$:\n",
        "$$ \\mathcal{O} = \\begin{bmatrix} \\mathbf{C}^\\top & \\mathbf{A}^\\top\\mathbf{C}^\\top & (\\mathbf{A}^\\top)^2\\mathbf{C}^\\top & ... & (\\mathbf{A}^\\top)^{n-1}\\mathbf{C}^\\top\\end{bmatrix}$$ when $n$ is number of system states. So, the system is controllable if the observable matrix has full row rank (i.e. $\\mathbf{rank}(\\mathbf{\\mathcal{O}})=n$)\n",
        "\n",
        "You can reed more information see [paper](https://www.ece.rutgers.edu/~gajic/psfiles/chap5traCO.pdf)"
      ]
    },
    {
      "cell_type": "markdown",
      "metadata": {
        "id": "dgrqDtoak-Le"
      },
      "source": [
        "## **Exercises**\n",
        "Define the controllability and observability:\n",
        "1. $\n",
        "\\begin{cases}\n",
        "\\dot {\\mathbf{x}} = \\begin{bmatrix} 1 & -2 \\\\ 1 & 0\n",
        "\\end{bmatrix} \\mathbf{x} + \\begin{bmatrix}1\\\\0\n",
        "\\end{bmatrix} \\mathbf{u} \\\\\n",
        "\\mathbf{y} = \\begin{bmatrix}2 & 0\n",
        "\\end{bmatrix} \\mathbf{x}\n",
        "\\end{cases}\n",
        "$\n",
        "\n",
        "2. $\n",
        "\\begin{cases}\n",
        "\\dot {\\mathbf{x}} = \\begin{bmatrix} 1 & 2 \\\\ 3 & 4\n",
        "\\end{bmatrix} \\mathbf{x} + \\begin{bmatrix}0\\\\2\n",
        "\\end{bmatrix} \\mathbf{u} \\\\\n",
        "\\mathbf{y} = \\begin{bmatrix}1 & 2\n",
        "\\end{bmatrix} \\mathbf{x}\n",
        "\\end{cases}\n",
        "$\n",
        "\n",
        "3. $\n",
        "\\begin{cases}\n",
        "\\dot {\\mathbf{x}} = \\begin{bmatrix} 1 & -2 \\\\ -3 & -4\n",
        "\\end{bmatrix} \\mathbf{x} + \\begin{bmatrix}2\\\\1\n",
        "\\end{bmatrix} \\mathbf{u} \\\\\n",
        "\\mathbf{y} = \\begin{bmatrix}1 & 2\n",
        "\\end{bmatrix} \\mathbf{x}\n",
        "\\end{cases}\n",
        "$"
      ]
    },
    {
      "cell_type": "code",
      "source": [
        "import numpy as np\n",
        "A = np.array([[1, -2],\n",
        "              [-3, -4]])\n",
        "B = np.array([[2],\n",
        "              [1]])\n",
        "C = np.array([[1, 2]])\n",
        "\n",
        "R = np.hstack([B, A @ B])\n",
        "O = np.hstack([C.T, A.T @ C.T])\n",
        "\n",
        "print(\"Matrix\\n\", R, '\\nrank', np.linalg.matrix_rank(R))\n",
        "print(\"Matrix\\n\", O, '\\nrank', np.linalg.matrix_rank(O))"
      ],
      "metadata": {
        "colab": {
          "base_uri": "https://localhost:8080/"
        },
        "id": "tpphY0s6bVdq",
        "outputId": "17df6aff-c44f-4790-a1f8-afe914d97f1a"
      },
      "execution_count": null,
      "outputs": [
        {
          "output_type": "stream",
          "name": "stdout",
          "text": [
            "Matrix\n",
            " [[  2   0]\n",
            " [  1 -10]] \n",
            "rank 2\n",
            "Matrix\n",
            " [[  1  -5]\n",
            " [  2 -10]] \n",
            "rank 1\n"
          ]
        }
      ]
    },
    {
      "cell_type": "markdown",
      "metadata": {
        "id": "xKxnYelRt2Lc"
      },
      "source": [
        "# **LQR, pole placement and observers design tasks**"
      ]
    },
    {
      "cell_type": "markdown",
      "metadata": {
        "id": "JiHhbjV8ubC7"
      },
      "source": [
        "## **Exercise 1**\n",
        "Consider mass-spring-damper system with parameters $m=1$, $k=10$, $b=2$. In this case, you have only a linear encoder to observe the system state, with measurement error $e_x = 0.05$.\n",
        "\n",
        "Write a state space model for the system and try to stabilize it. The initial state of the system is: $x = 3$ and $\\dot{x} = 1$. Define the $K$ and $L$ matrices by different way.\n",
        "\n",
        "![image.png](data:image/png;base64,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)\n"
      ]
    },
    {
      "cell_type": "code",
      "metadata": {
        "id": "fWY-fN3jIoYU"
      },
      "source": [
        "#Put your code here\n",
        "import numpy as np\n",
        "from scipy.linalg import solve_continuous_are\n",
        "from scipy.integrate import odeint\n",
        "\n",
        "k = 1\n",
        "b = 2\n",
        "m = 3\n",
        "\n",
        "A = np.array([[0, 1],\n",
        "              [-k/m, -b/m]])\n",
        "B = np.array([[0],\n",
        "              [1 / m]])\n",
        "C = np.array([[1, 0]])\n",
        "\n",
        "x0 = np.array([0,\n",
        "               0,\n",
        "               0.05,\n",
        "               0])"
      ],
      "execution_count": null,
      "outputs": []
    },
    {
      "cell_type": "markdown",
      "metadata": {
        "id": "JOYEy7czVYEg"
      },
      "source": [
        "> **NOTE:** Dynamics for system with observers should be following:\n",
        "> \\begin{equation}\n",
        "\\begin{cases}\n",
        "\\dot {\\mathbf{x}} = \\mathbf{A} \\mathbf{x} + \\mathbf{B} \\mathbf{u} \\\\\n",
        "\\hat{\\dot {\\mathbf{x}}} = \\mathbf{A} \\hat{\\mathbf{x}} + \\mathbf{B} \\mathbf u + \\mathbf{L}(\\mathbf y - \\mathbf{C} \\hat{\\mathbf{x}})\\\\\n",
        "\\mathbf{y} = \\mathbf{C} \\mathbf{x} \\\\\n",
        "\\mathbf{u} = -\\mathbf{K} (\\hat{\\mathbf{x}} - \\mathbf{x}^*(t)) + \\mathbf{u}^*(t)\n",
        "\\end{cases}\n",
        "\\end{equation}\n",
        "> where $\\mathbf{A} - \\mathbf{B} \\mathbf{K} < 0$ and $\\mathbf{A}^{\\top} -\n",
        "\\mathbf{C}^{\\top} \\mathbf{L}^{\\top} < 0$.\n",
        "This system of equations can be rewritten into the matrix form:\n",
        "> \\begin{equation}\n",
        "\\begin{bmatrix}\n",
        "\\dot {\\mathbf{x}} \\\\\n",
        "\\dot{\\mathbf{e}}\n",
        "\\end{bmatrix}\n",
        "=\n",
        "\\begin{bmatrix}\n",
        "(\\mathbf{A}-\\mathbf{B}\\mathbf{K}) & \\mathbf{B}\\mathbf{K} \\\\\n",
        "0 & (\\mathbf{A}  - \\mathbf{L}\\mathbf{C})\n",
        "\\end{bmatrix}\n",
        "\\begin{bmatrix}\n",
        "\\mathbf{x} \\\\\n",
        "\\mathbf{e}\n",
        "\\end{bmatrix}\n",
        "\\end{equation}\n",
        "This work by the following way:\n",
        "\n",
        "Let us use the following substitution: $\\mathbf{e} = \\mathbf{x} - \\hat{\\mathbf{x}}$, which implies $\\hat{\\mathbf{x}} = \\mathbf{x} - \\mathbf{e}$:\n",
        "\n",
        "Our system had form:\n",
        "\n",
        "\\begin{equation}\n",
        "\\begin{cases}\n",
        "\\dot {\\mathbf{x}} = \\mathbf{A} \\mathbf{x} - \\mathbf{B}\\mathbf{K} \\hat{\\mathbf{x}} \\\\\n",
        "\\hat{\\dot {\\mathbf{x}}} = \\mathbf{A} \\hat{\\mathbf{x}} - \\mathbf{B}\\mathbf{K} \\hat{\\mathbf{x}} + \\mathbf{L}(\\mathbf{C} \\mathbf{x} - \\mathbf{C} \\hat{\\mathbf{x}})\n",
        "\\end{cases}\n",
        "\\end{equation}\n",
        "\n",
        "Since $\\dot{\\mathbf{e}} = \\dot{\\mathbf{x}} - \\hat{\\dot{\\mathbf{x}}}$, we get:\n",
        "$$\n",
        "\\dot{\\mathbf{e}} =\n",
        "\\mathbf{A} \\mathbf{x} - \\mathbf{B}\\mathbf{K} \\hat{\\mathbf{x}} -\n",
        "(\\mathbf{A} \\hat{\\mathbf{x}} - \\mathbf{B}\\mathbf{K} \\hat{\\mathbf{x}} + \\mathbf{L}(\\mathbf{C} \\mathbf{x} - \\mathbf{C} \\hat{\\mathbf{x}}))\n",
        "$$\n",
        "$$\n",
        "\\dot{\\mathbf{e}} =\n",
        "\\mathbf{A} (\\mathbf{x} - \\hat{\\mathbf{x}})  - \\mathbf{L}\\mathbf{C}(\\mathbf{x} - \\hat{\\mathbf{x}})\n",
        "$$\n",
        "\n",
        "$$\n",
        "\\dot{\\mathbf{e}} =\n",
        "(\\mathbf{A}  - \\mathbf{L}\\mathbf{C})\\mathbf{e}\n",
        "$$\n",
        "\n",
        "Equation for $\\dot {\\mathbf{x}}$ takes form:\n",
        "\n",
        "$$\n",
        "\\dot {\\mathbf{x}} = (\\mathbf{A}-\\mathbf{B}\\mathbf{K}) \\mathbf{x} +  \\mathbf{B}\\mathbf{K}\\mathbf{e}\n",
        "$$\n",
        "\n",
        "In matrix form this equations is:\n",
        "\\begin{equation}\n",
        "\\begin{bmatrix}\n",
        "\\dot {\\mathbf{x}} \\\\\n",
        "\\dot{\\mathbf{e}}\n",
        "\\end{bmatrix}\n",
        "=\n",
        "\\begin{bmatrix}\n",
        "(\\mathbf{A}-\\mathbf{B}\\mathbf{K}) & \\mathbf{B}\\mathbf{K} \\\\\n",
        "0 & (\\mathbf{A}  - \\mathbf{L}\\mathbf{C})\n",
        "\\end{bmatrix}\n",
        "\\begin{bmatrix}\n",
        "\\mathbf{x} \\\\\n",
        "\\mathbf{e}\n",
        "\\end{bmatrix}\n",
        "\\end{equation}"
      ]
    },
    {
      "cell_type": "markdown",
      "metadata": {
        "id": "mB6gR_4rLDNX"
      },
      "source": [
        "## **Exercise 2**\n",
        "Try to stabilize mass-spring-dempher system on the $x_d=3$. The conditions will be the same."
      ]
    },
    {
      "cell_type": "code",
      "metadata": {
        "id": "OJ2GE_OoMRIu"
      },
      "source": [
        "#Put your code here\n",
        "import numpy as np\n",
        "from scipy.linalg import solve_continuous_are, pinv\n",
        "from scipy.integrate import odeint\n",
        "\n",
        "k = 1\n",
        "b = 2\n",
        "m = 3\n",
        "\n",
        "x_d =  3\n",
        "x_d = np.array([[x_d], [0]])\n",
        "\n",
        "A = np.array([[0, 1],\n",
        "              [-k/m, -b/m]])\n",
        "B = np.array([[0],\n",
        "              [1 / m]])\n",
        "C = np.array([[1, 0]])"
      ],
      "execution_count": null,
      "outputs": []
    },
    {
      "cell_type": "markdown",
      "metadata": {
        "id": "Nryg43-rMTZH"
      },
      "source": [
        "## **Exercise 3**\n",
        "Try to stabilize the mass-spring-dempher system near the trajectory $x_d=sin(wt)$, when $w=4$"
      ]
    },
    {
      "cell_type": "code",
      "metadata": {
        "id": "9QSiBbK-MShG"
      },
      "source": [
        "#Put your code here\n",
        "import numpy as np\n",
        "from scipy.linalg import solve_continuous_are, pinv\n",
        "from scipy.integrate import odeint\n",
        "\n",
        "k = 1\n",
        "b = 2\n",
        "m = 3\n",
        "\n",
        "x_d =  3\n",
        "x_d = np.array([[x_d], [0]])\n",
        "\n",
        "A = np.array([[0, 1],\n",
        "              [-k/m, -b/m]])\n",
        "B = np.array([[0],\n",
        "              [1 / m]])\n",
        "C = np.array([[1, 0]])"
      ],
      "execution_count": null,
      "outputs": []
    }
  ]
}