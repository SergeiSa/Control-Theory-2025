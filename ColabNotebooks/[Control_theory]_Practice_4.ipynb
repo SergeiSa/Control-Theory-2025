{
  "nbformat": 4,
  "nbformat_minor": 0,
  "metadata": {
    "colab": {
      "provenance": []
    },
    "kernelspec": {
      "name": "python3",
      "display_name": "Python 3"
    }
  },
  "cells": [
    {
      "cell_type": "markdown",
      "metadata": {
        "id": "D-dOD4xqsPiR"
      },
      "source": [
        "# **Practice 4: Laplace Transform and Transfer Functions**\n",
        "## **Goals for today**\n",
        "\n",
        "---\n",
        "\n",
        "\n",
        "\n",
        "During today practice we will:\n",
        "* Recall the Laplace transform\n",
        "* Define the transfer functions\n",
        "* Model particular systems with transfer functions\n"
      ]
    },
    {
      "cell_type": "markdown",
      "metadata": {
        "id": "RCityqOscrJV"
      },
      "source": [
        "## **Laplace transform**\n",
        "\n",
        "In mathematics, the Laplace transform, named after its inventor Pierre-Simon Laplace, is an integral transform that converts a function of a real variable $t$ (time domain) to a function of a complex variable $s$ (frequency domain). The transform has many applications in science and engineering because it is a tool for solving differential equations. In particular, it transforms differential equations into algebraic equations.\n",
        "\n",
        "The Laplace transform of a function $f(t)$ is given as:\n",
        "\\begin{equation}\n",
        "    F(s) = \\mathcal{L} \\{ x(t)\\} = \\int_0^\\infty f(t) e^{-st}dt\n",
        "\\end{equation}\n",
        "\n",
        "where $F(s)$ is called an ***image*** of the function and $s=\\alpha +\\beta i $ is a complex frequency.\n",
        "\n",
        "Laplace transform is defined as transformation from the time domain $t$ to the frequency domain $s$.\n",
        "\n",
        "it is convinient to use the table of precalculated Laplace transforms:\n",
        "<p><img alt=\"mbk\" height=\"340px\" src=\"https://drive.google.com/uc?id=1ge8dKAmcvYr6VOmQ4ouzolNUDJ9V9wDH\" align=\"center\" hspace=\"220px\" vspace=\"0px\"></p>\n",
        "\n",
        "#### **Some Usefull properties**\n",
        "Linear properties:\n",
        "\\begin{equation}\n",
        "    {\\mathcal {L}}\\{f(t)+g(t)\\}={\\mathcal {L}}\\{f(t)\\}+{\\mathcal {L}}\\{g(t)\\}\n",
        "\\end{equation}\n",
        "\n",
        "\\begin{equation}\n",
        "    {\\mathcal {L}}\\{af(t)\\}=a{\\mathcal {L}}\\{f(t)\\}\n",
        "\\end{equation}\n",
        "Final value theorem:\n",
        "\\begin{equation}\n",
        "f(\\infty )=\\lim _{s\\to 0}{sF(s)}\n",
        "\\end{equation}\n",
        "The final value theorem is useful because it gives the long-term behaviour for particular function.\n",
        "\n",
        "#### **Inverse Laplace Transform**\n",
        "The inverse Laplace transform is going in other way, by transforming image of your function $F(s)$ from frequancy domain to time domain $x(t)$:\n",
        "\\begin{equation}\n",
        "{\\displaystyle f(t)={\\mathcal {L}}^{-1}\\{F\\}(t)={\\frac {1}{2\\pi i}}\\lim _{T\\to \\infty }\\int _{\\gamma -iT}^{\\gamma +iT}e^{st}F(s)\\,ds}\n",
        "\\end{equation}\n",
        "\n",
        "However in poractice we mostly use precalculated laplace transforms and then trying to decompose the image $X(s)$ into known transforms of functions obtained from a table, and construct the inverse by inspection, or just use some symbolic routines:\n",
        "\n"
      ]
    },
    {
      "cell_type": "code",
      "metadata": {
        "id": "MKcM-1G4gaYW"
      },
      "source": [
        "import sympy\n",
        "sympy.init_printing()"
      ],
      "execution_count": null,
      "outputs": []
    },
    {
      "cell_type": "code",
      "metadata": {
        "id": "0Qj3OoWjgikM"
      },
      "source": [
        "t, s = sympy.symbols('t, s')\n",
        "a = sympy.symbols('a', real=True, positive=True)"
      ],
      "execution_count": null,
      "outputs": []
    },
    {
      "cell_type": "code",
      "metadata": {
        "colab": {
          "base_uri": "https://localhost:8080/",
          "height": 39
        },
        "id": "psiuazxSgkhO",
        "outputId": "87567538-691c-4396-fbed-c684be3f1d75"
      },
      "source": [
        "f = sympy.exp(a*t)\n",
        "f"
      ],
      "execution_count": null,
      "outputs": [
        {
          "output_type": "execute_result",
          "data": {
            "text/plain": [
              " a⋅t\n",
              "ℯ   "
            ],
            "text/latex": "$\\displaystyle e^{a t}$"
          },
          "metadata": {},
          "execution_count": 3
        }
      ]
    },
    {
      "cell_type": "code",
      "metadata": {
        "colab": {
          "base_uri": "https://localhost:8080/",
          "height": 52
        },
        "id": "ntT8J1XIgzKW",
        "outputId": "45e2939f-2f37-42d7-9930-f196daeea8cc"
      },
      "source": [
        "F = sympy.laplace_transform(f, t, s, noconds=True)\n",
        "F"
      ],
      "execution_count": null,
      "outputs": [
        {
          "output_type": "execute_result",
          "data": {
            "text/plain": [
              "  1   \n",
              "──────\n",
              "-a + s"
            ],
            "text/latex": "$\\displaystyle \\frac{1}{- a + s}$"
          },
          "metadata": {},
          "execution_count": 4
        }
      ]
    },
    {
      "cell_type": "code",
      "metadata": {
        "colab": {
          "base_uri": "https://localhost:8080/",
          "height": 39
        },
        "id": "ClrfANLng66x",
        "outputId": "c0de2d49-c486-4f08-f324-58ed5e14467c"
      },
      "source": [
        "f = sympy.inverse_laplace_transform(F, s, t)\n",
        "f"
      ],
      "execution_count": null,
      "outputs": [
        {
          "output_type": "execute_result",
          "data": {
            "text/plain": [
              " a⋅t     \n",
              "ℯ   ⋅θ(t)"
            ],
            "text/latex": "$\\displaystyle e^{a t} \\theta\\left(t\\right)$"
          },
          "metadata": {},
          "execution_count": 5
        }
      ]
    },
    {
      "cell_type": "code",
      "metadata": {
        "id": "TdHXASZ6hJAq"
      },
      "source": [
        "def L(f):\n",
        "    return sympy.laplace_transform(f, t, s, noconds=True)\n",
        "\n",
        "def invL(F):\n",
        "    return sympy.inverse_laplace_transform(F, s, t)"
      ],
      "execution_count": null,
      "outputs": []
    },
    {
      "cell_type": "code",
      "metadata": {
        "colab": {
          "base_uri": "https://localhost:8080/",
          "height": 52
        },
        "id": "H0g7os87j51Y",
        "outputId": "95c0ed4a-9dfe-48b8-bb67-7db2db755811"
      },
      "source": [
        "L(sympy.exp(a*t))"
      ],
      "execution_count": null,
      "outputs": [
        {
          "output_type": "execute_result",
          "data": {
            "text/plain": [
              "  1   \n",
              "──────\n",
              "-a + s"
            ],
            "text/latex": "$\\displaystyle \\frac{1}{- a + s}$"
          },
          "metadata": {},
          "execution_count": 7
        }
      ]
    },
    {
      "cell_type": "code",
      "metadata": {
        "colab": {
          "base_uri": "https://localhost:8080/",
          "height": 39
        },
        "id": "Ma5asUr4j5db",
        "outputId": "e83b8d05-65f6-4d7d-828e-226fe0820319"
      },
      "source": [
        "invL(F)"
      ],
      "execution_count": null,
      "outputs": [
        {
          "output_type": "execute_result",
          "data": {
            "text/plain": [
              " a⋅t     \n",
              "ℯ   ⋅θ(t)"
            ],
            "text/latex": "$\\displaystyle e^{a t} \\theta\\left(t\\right)$"
          },
          "metadata": {},
          "execution_count": 8
        }
      ]
    },
    {
      "cell_type": "markdown",
      "metadata": {
        "id": "Bj7W6rQViF4J"
      },
      "source": [
        "## **Homework exercises** for self-study\n",
        "> Write the code that will reproduce the first 5 rows of the table above."
      ]
    },
    {
      "cell_type": "code",
      "metadata": {
        "id": "fY3HSwLsiAtM"
      },
      "source": [
        "# Put your code here"
      ],
      "execution_count": null,
      "outputs": []
    },
    {
      "cell_type": "markdown",
      "metadata": {
        "id": "o3Z6WvjdfnpO"
      },
      "source": [
        "\n",
        "\n",
        "### **Laplace transform of a function's derivative**\n",
        ">For us one of the most usefull properties of Laplace transform is that if we apply it to the derevetive of a given variable it will result with following:\n",
        ">\n",
        "> \\begin{equation}\n",
        "\\mathcal{L}\\left\\{\\frac{dx(t)}{dt}\\right\\} = s \\mathcal{L}\\left(x\\right) = s X(s)\n",
        "\\end{equation}\n",
        "which is true for $x(0) = 0$\n",
        ">\n",
        ">Thus we can define a **derivative operator**:\n",
        "\\begin{equation}\n",
        "\\frac{dx}{dt} \\xrightarrow{\\mathcal{L}} s X(s)\n",
        "\\end{equation}\n",
        "\n",
        "The proof is as follows, using defenition of Laplace transform:\n",
        "\\begin{equation}\n",
        "    \\mathcal{L}\\left\\{\\frac{dx}{dt}\\right\\} = \\int_0^\\infty \\frac{dx}{dt} e^{-st}dt\n",
        "\\end{equation}\n",
        "Then using integration by parts:\n",
        "\n",
        "\\begin{equation}\n",
        "\\int_0^\\infty \\frac{dx}{dt} e^{-st}dt =  \\left[x e^{-st} \\right]_0^\\infty -\n",
        "\\int_0^\\infty -se^{-st} x dt\n",
        "\\end{equation}\n",
        "which yields:\n",
        "\\begin{equation}\n",
        "\\left[x e^{-st} \\right]_0^\\infty +\n",
        "s\\int_0^\\infty e^{-st} x dt = x(0) + s\\mathcal{L}\\{x(t)\\} = x(0) + sX(s)\n",
        "\\end{equation}\n",
        "\n",
        "by induction it can be shown that:\n",
        "\\begin{equation}\n",
        "{\\mathcal {L}}\\left\\{\\frac{d^{n}x}{dt^{n}}(t)\\right\\}=s^{n}\\cdot {\\mathcal {L}}\\{x(t)\\}+s^{n-1}x(0)+\\cdots +x^{(n-1)}(0)\n",
        "\\end{equation}\n",
        "\n",
        "\\begin{equation}\n",
        "    \\mathcal{L}\\left(\\frac{dx}{dt}\\right) = \\int_0^\\infty \\frac{dx}{dt} e^{-st}dt\n",
        "\\end{equation}\n",
        "\n",
        "### **Applications to the linear ODEs**\n",
        ">Let us consider the following ODE:\n",
        "\\begin{equation}\n",
        "a_{n}x^{(n)} +a_{n-1}x^{(n-1)}+...+a_{2}\\ddot x+a_{1}\\dot x + a_0 x= u_{m}b^{(m)} +b_{m-1}u^{(m-1)}+...+b_{2}\\ddot u+b_{1}\\dot u + b_0 u\n",
        "\\end{equation}\n",
        "Notice that we introduce a new variable that we call the input $u$ (control).\n",
        "\n",
        "Aplying the inverse laplace transform with zero initial conditions yields:\n",
        "\\begin{equation}\n",
        "a_{n}s^{(n)}X(s) +a_{n-1}s^{(n-1)}X(s)+...+a_{2} s^2 X(s)+a_{1}s X(s) + a_0 X(s) =\\\\\n",
        "= b_{m}s^{(m)}U(s) +b_{m-1}s^{(m-1)}U(s)+...+b_{2}s^2 U(s)+b_{1}sU(s) + b_0 U(s)\n",
        "\\end{equation}\n",
        "\n"
      ]
    },
    {
      "cell_type": "markdown",
      "metadata": {
        "id": "RDrejDYJkiWH"
      },
      "source": [
        "\n",
        "## **Exercise**\n",
        "> Apply Laplace transform to the following ODEs:\n",
        "\n",
        "1. $$\n",
        "    -\\ddot{y} - 10\\dot{y}  + 1.5 y = u\n",
        "$$\n",
        "\n",
        "2. $$\n",
        "    2\\ddot{y} + 10\\dot{y}  + 2 y = 5 u\n",
        "$$\n",
        "\n",
        "3. $$\n",
        "    \\ddot{y} + 4.5 \\dot{y} - y = -u\n",
        "$$"
      ]
    },
    {
      "cell_type": "markdown",
      "metadata": {
        "id": "xC0pbISDkw-g"
      },
      "source": [
        "\n",
        "## **Transfer Functions**\n",
        "A transfer function is a mathematical function which theoretically models the device's output for each possible input. Transfer functions are commonly used in the analysis of systems such as single-input single-output filters in the fields of signal processing, communication theory, and control theory. The term is often used exclusively to refer to linear time-invariant (LTI) systems\n",
        "\n",
        "Thus, for continuous-time input signal $u(t)$ and output $x(t)$, the transfer function $W(s)$ is the linear mapping of the Laplace transform of the input, $U(s) = \\mathcal{L}\\left\\{u(t)\\right\\}$, to the Laplace transform of the output $X(s) = \\mathcal{L}\\left\\{x(t)\\right\\}$:\n",
        "\\begin{equation}\n",
        " X(s) = W(s)\\;U(s) \\rightarrow  W(s) = \\frac{X(s)}{U(s)} = \\frac{ \\mathcal{L}\\left\\{x(t)\\right\\} }{ \\mathcal{L}\\left\\{u(t)\\right\\} }\n",
        "\\end{equation}\n",
        "\n",
        "Considering this defenition we can evaluate tha transfer function for ODE given above as:\n",
        "\\begin{equation}\n",
        "W(s) = \\frac{X(s)}{U(s)} = \\frac{b_{m}s^{(m)} +b_{m-1}s^{(m-1)}+...+b_{2}s^2 +b_{1}s + b_0 }{a_{n}s^{(n)} +a_{n-1}s^{(n-1)}+...+a_{2} s^2 +a_{1}s  + a_0 }\n",
        "\\end{equation}\n",
        "\n",
        "A transfer function thus represent the ODE by its behaviour from input image $U(s)$ to output image $X(s)$.\n",
        "\n",
        "\n"
      ]
    },
    {
      "cell_type": "markdown",
      "source": [
        "## **From ODE to transfer function**\n",
        "Let us consider the following ODE:\n",
        "\\begin{equation}\n",
        "a_{n}x^{(n)} +a_{n-1}x^{(n-1)}+...+a_{2}\\ddot x+a_{1}\\dot x + a_0 x= u_{m}b^{(m)} +b_{m-1}u^{(m-1)}+...+b_{2}\\ddot u+b_{1}\\dot u + b_0 u\n",
        "\\end{equation}\n",
        "\n",
        "Aplying the inverse laplace transform with zero initial conditions yields:\n",
        "\\begin{equation}\n",
        "a_{n}s^{(n)}X(s) +a_{n-1}s^{(n-1)}X(s)+...+a_{2} s^2 X(s)+a_{1}s X(s) + a_0 X(s) =\\\\\n",
        "= b_{m}s^{(m)}U(s) +b_{m-1}s^{(m-1)}U(s)+...+b_{2}s^2 U(s)+b_{1}sU(s) + b_0 U(s)\n",
        "\\end{equation}\n",
        "\n",
        "Now lets rewrite this equation in the following form:\n",
        "$$\n",
        "\\begin{cases}\n",
        "U(s)=\\frac{a_ns^n+a_{n-1}s^{(n-1)}+...+a_{1}s+a_0}{b_{m}s^{(m)}+b_{m-1}s^{(m-1)}+...+b_{1}s+b_0}X(s) \\\\\n",
        "Y(s)=X(s)\n",
        "\\end{cases}\n",
        "$$\n",
        "\n",
        "This mean that our transfer function is equal to:\n",
        "$$\n",
        "W(s)=\\frac{Y(s)}{U(s)}=\\frac{b_{m}s^{(m)}+b_{m-1}s^{(m-1)}+...+b_{1}s+b_0}{a_ns^n+a_{n-1}s^{(n-1)}+...+a_{1}s+a_0}\n",
        "$$"
      ],
      "metadata": {
        "id": "vKH3G7tybGKs"
      }
    },
    {
      "cell_type": "markdown",
      "metadata": {
        "id": "oV6h4Uok27gX"
      },
      "source": [
        ">### **Example**\n",
        ">Consider the mass-spring-damper system:\n",
        "><p><img alt=\"mbk\" height=\"250px\" src=\"https://drive.google.com/uc?id=1ouEckIc8hm6IOTJ5uGVJHCwx2tBeyKj8\" align=\"center\" hspace=\"350px\" vspace=\"0px\"></p>\n",
        ">\n",
        "> with dynamics given by\n",
        "> \\begin{equation}\n",
        "m \\ddot y + b \\dot y + k y = u\n",
        "\\end{equation}\n",
        ">\n",
        ">where $u$ is force that applied to the mass, let's model this system by using transfer functions.\n",
        "\n"
      ]
    },
    {
      "cell_type": "code",
      "metadata": {
        "colab": {
          "base_uri": "https://localhost:8080/",
          "height": 449
        },
        "id": "3cPmD7N7tZow",
        "outputId": "31c22e58-1a41-4279-8492-3d8e22ce756c"
      },
      "source": [
        "import numpy as np\n",
        "from scipy import signal\n",
        "import matplotlib.pyplot as plt\n",
        "from scipy.integrate import odeint\n",
        "\n",
        "# Simulate m d^2y/dt^2 + b dy/dt + k y = u\n",
        "# from u to y\n",
        "# W(s) = 1/(m s^2 + bs + k)\n",
        "\n",
        "m = 2\n",
        "b = 1\n",
        "k = 5\n",
        "\n",
        "num = [1,0]\n",
        "den = [m, b, k]\n",
        "sys_tf = signal.TransferFunction(num,den)\n",
        "t_tf,y_tf = signal.step(sys_tf)\n",
        "\n",
        "plt.figure(1)\n",
        "plt.plot(t_tf,y_tf,'r',linewidth=2,label=r'$y$ response')\n",
        "plt.xlabel(r'Time')\n",
        "plt.ylabel(r'Response (y)')\n",
        "plt.grid(color='black', linestyle='--', linewidth=1.0, alpha = 0.7)\n",
        "plt.grid(True)\n",
        "plt.xlim([t_tf[0], t_tf[-1]])\n",
        "plt.legend(loc='best')\n",
        "plt.show()"
      ],
      "execution_count": null,
      "outputs": [
        {
          "output_type": "display_data",
          "data": {
            "text/plain": [
              "<Figure size 640x480 with 1 Axes>"
            ],
            "image/png": "[encoded data removed]"
          },
          "metadata": {}
        }
      ]
    },
    {
      "cell_type": "markdown",
      "source": [
        "## **Homework exercises** for self-study\n",
        "> 1. Find the transfer function of the ODEs given above\n",
        ">\n",
        "> 2. Modify the code above to represent the response from input force $u$ to output velocity $\\dot{y}$\n",
        ">\n",
        "> 3. Compare solutions with ones provided by `odeint`"
      ],
      "metadata": {
        "id": "xEQAMgs9cq8Z"
      }
    },
    {
      "cell_type": "code",
      "source": [
        "# put your code here"
      ],
      "metadata": {
        "id": "M6GnxAnrc60I"
      },
      "execution_count": null,
      "outputs": []
    },
    {
      "cell_type": "markdown",
      "metadata": {
        "id": "1qQ-mJEhs7L3"
      },
      "source": [
        "## **Exercises**\n",
        "> Calculate transfer function for the following systems:\n",
        "\n",
        "1. $$\n",
        "    \\dddot{y}+3\\ddot{y} + 2\\dot{y} + 8 y = 2 u\n",
        "$$\n",
        "\n",
        "2. $$\n",
        "    5\\dddot{y}-4\\ddot{y} - 5\\dot{y} - 3 y = u\n",
        "$$\n",
        "\n",
        "3. $$\n",
        "\\begin{cases}\n",
        "        2\\dddot{y}+3\\ddot{y} + 7\\dot{y} + 12 y - u = 0 \\\\\n",
        "        \\dot{z}+5z = u\n",
        "\\end{cases}\n",
        "$$\n",
        "\n",
        "4. $$\n",
        "\\begin{cases}\n",
        "        3\\dddot{y}+9\\ddot{y} + 2\\dot{y} + 6 y = u + v \\\\\n",
        "        5\\ddot{z}+\\dot{z}+5z = v\n",
        "\\end{cases}\n",
        "$$"
      ]
    },
    {
      "cell_type": "markdown",
      "metadata": {
        "id": "f_jpmegAx_Pj"
      },
      "source": [
        "### **From State Space to Transfer Functions**\n",
        "\n",
        "Consider standard form state-space dynamical system:\n",
        "\n",
        "\\begin{equation}\n",
        "\\begin{cases}\n",
        "\\dot{\\mathbf{x}} = \\mathbf{A}\\mathbf{x} + \\mathbf{B}\\mathbf{u} \\\\\n",
        "     \\mathbf{y}  = \\mathbf{C}\\mathbf{x} + \\mathbf{D}\\mathbf{u}\n",
        "\\end{cases}\n",
        "\\end{equation}\n",
        "\n",
        "We can rewrite it using the derivative operator:\n",
        "\n",
        "\\begin{equation}\n",
        "\\begin{cases}\n",
        "s\\mathbf{I}\\mathbf{X}(s) -\\mathbf{A}\\mathbf{X}(s) = \\mathbf{B}\\mathbf{U}(s) \\\\\n",
        "\\mathbf{Y}(s)  = \\mathbf{C}\\mathbf{X}(s) + \\mathbf{D}\\mathbf{U}(s)\n",
        "\\end{cases}\n",
        "\\end{equation}\n",
        "\n",
        "and then collect $\\mathbf{X}(s)$ on the left-hand-side: $\\mathbf{X}(s) = (s\\mathbf{I} -\\mathbf{A})^{-1} \\mathbf{B}\\mathbf{U}(s)$\n",
        "\n",
        "and finally, express $\\mathbf{Y}(s)$ output:\n",
        "\n",
        "\\begin{equation}\n",
        "\\mathbf{Y}(s)  = \\left( \\mathbf{C}(s\\mathbf{I} -\\mathbf{A})^{-1} \\mathbf{B} + \\mathbf{D} \\right) \\mathbf{U}(s)\n",
        "\\end{equation}\n",
        "\n"
      ]
    },
    {
      "cell_type": "markdown",
      "metadata": {
        "id": "bYjgqfd22d2b"
      },
      "source": [
        ">### **Example**\n",
        "Let us recall the \"love equation\" between Romeo and Juliet:\n",
        "$$\n",
        "\\begin{cases}\n",
        "\\dot{R}=aR+bJ \\\\\n",
        "\\dot{J}=cR+dJ\n",
        "\\end{cases}\n",
        "$$\n",
        "\n",
        "But now lets consider the case when they can manipulate each other feelings with some control inputs $u_R$ and $u_J$:\n",
        "\\begin{equation}\n",
        "\\begin{bmatrix}\n",
        "\\dot{R} \\\\\n",
        "\\dot{J}\n",
        "\\end{bmatrix} =\n",
        "\\begin{bmatrix}\n",
        "a R + bJ + e u_R + f u_J\\\\\n",
        "c R + dJ + j u_R + h u_J\n",
        "\\end{bmatrix}\n",
        "\\end{equation}\n",
        "State space representation of this system is given as:\n",
        "\\begin{equation}\n",
        "\\begin{bmatrix}\n",
        "\\dot{R} \\\\\n",
        "\\dot{J}\n",
        "\\end{bmatrix} =\n",
        "\\begin{bmatrix}\n",
        "a & b \\\\\n",
        "c & d\n",
        "\\end{bmatrix}\n",
        "\\begin{bmatrix}\n",
        "R \\\\\n",
        "J\n",
        "\\end{bmatrix} +\n",
        "\\begin{bmatrix}\n",
        "e & f \\\\\n",
        "j & h\n",
        "\\end{bmatrix}\n",
        "\\begin{bmatrix}\n",
        "u_R \\\\\n",
        "u_J\n",
        "\\end{bmatrix}\n",
        "\\end{equation}\n",
        "\n",
        "And our goal is to find the transfer functions form Romeo effort to Juliet love and vice versa."
      ]
    },
    {
      "cell_type": "markdown",
      "metadata": {
        "id": "RPWJbCSS-Les"
      },
      "source": [
        "Lets first find the solution analytically:"
      ]
    },
    {
      "cell_type": "code",
      "metadata": {
        "id": "5ip-SUMp-Qih"
      },
      "source": [
        "a, b, c, d, e, f, g, h = sympy.symbols('a, b, c, d, e, f, g, h')\n",
        "s = sympy.symbols('s')\n",
        "\n",
        "A = sympy.Matrix([[a, b], [c, d]])\n",
        "B = sympy.Matrix([[e, f],[g, h]])"
      ],
      "execution_count": null,
      "outputs": []
    },
    {
      "cell_type": "code",
      "metadata": {
        "colab": {
          "base_uri": "https://localhost:8080/",
          "height": 68
        },
        "id": "HLhxjSqiA8-S",
        "outputId": "cf93aa2f-bf87-47be-a942-f2e00047d143"
      },
      "source": [
        "Xs = (s * sympy.eye(2) - A).inv()*B\n",
        "Xs"
      ],
      "execution_count": null,
      "outputs": [
        {
          "output_type": "execute_result",
          "data": {
            "text/plain": [
              "⎡           b⋅g                       e⋅(-d + s)                     b⋅h                       f⋅( ↪\n",
              "⎢────────────────────────── + ──────────────────────────  ────────────────────────── + ─────────── ↪\n",
              "⎢                         2                            2                           2               ↪\n",
              "⎢a⋅d - a⋅s - b⋅c - d⋅s + s    a⋅d - a⋅s - b⋅c - d⋅s + s   a⋅d - a⋅s - b⋅c - d⋅s + s    a⋅d - a⋅s - ↪\n",
              "⎢                                                                                                  ↪\n",
              "⎢           c⋅e                       g⋅(-a + s)                     c⋅f                       h⋅( ↪\n",
              "⎢────────────────────────── + ──────────────────────────  ────────────────────────── + ─────────── ↪\n",
              "⎢                         2                            2                           2               ↪\n",
              "⎣a⋅d - a⋅s - b⋅c - d⋅s + s    a⋅d - a⋅s - b⋅c - d⋅s + s   a⋅d - a⋅s - b⋅c - d⋅s + s    a⋅d - a⋅s - ↪\n",
              "\n",
              "↪ -d + s)        ⎤\n",
              "↪ ───────────────⎥\n",
              "↪               2⎥\n",
              "↪  b⋅c - d⋅s + s ⎥\n",
              "↪                ⎥\n",
              "↪ -a + s)        ⎥\n",
              "↪ ───────────────⎥\n",
              "↪               2⎥\n",
              "↪  b⋅c - d⋅s + s ⎦"
            ],
            "text/latex": "$\\displaystyle \\left[\\begin{matrix}\\frac{b g}{a d - a s - b c - d s + s^{2}} + \\frac{e \\left(- d + s\\right)}{a d - a s - b c - d s + s^{2}} & \\frac{b h}{a d - a s - b c - d s + s^{2}} + \\frac{f \\left(- d + s\\right)}{a d - a s - b c - d s + s^{2}}\\\\\\frac{c e}{a d - a s - b c - d s + s^{2}} + \\frac{g \\left(- a + s\\right)}{a d - a s - b c - d s + s^{2}} & \\frac{c f}{a d - a s - b c - d s + s^{2}} + \\frac{h \\left(- a + s\\right)}{a d - a s - b c - d s + s^{2}}\\end{matrix}\\right]$"
          },
          "metadata": {},
          "execution_count": 13
        }
      ]
    },
    {
      "cell_type": "markdown",
      "source": [
        "Let's add in our system the output equation:\n",
        "\\begin{equation}\n",
        "\\begin{cases}\n",
        "\\dot{\\mathbf{x}} = \\mathbf{A}\\mathbf{x} + \\mathbf{B}\\mathbf{u} \\\\\n",
        "     \\mathbf{y}  = \\mathbf{C}\\mathbf{x} + \\mathbf{D}\\mathbf{u}\n",
        "\\end{cases}\n",
        "\\end{equation}\n",
        "\n",
        "when $\\mathbf{x} = \\begin{bmatrix}\n",
        "\\dot{R} \\\\\n",
        "\\dot{J}\n",
        "\\end{bmatrix}$, $\\mathbf{A} = \\begin{bmatrix}\n",
        "a & b \\\\\n",
        "c & d\n",
        "\\end{bmatrix}$, $\\mathbf{B} = \\begin{bmatrix}\n",
        "e & f \\\\\n",
        "j & h\n",
        "\\end{bmatrix}$, $\\mathbf{C} = \\begin{bmatrix}\n",
        "1 \\\\\n",
        "0\n",
        "\\end{bmatrix}$, $\\mathbf{D} = \\begin{bmatrix}\n",
        "0 \\\\\n",
        "0\n",
        "\\end{bmatrix}$"
      ],
      "metadata": {
        "id": "tBqkI-rr6ihD"
      }
    },
    {
      "cell_type": "code",
      "metadata": {
        "id": "4WMJSP2OBlCs"
      },
      "source": [
        "# lets now denote output equations\n",
        "C = sympy.Matrix([[1, 0]])\n",
        "D = sympy.Matrix([[0,0]])"
      ],
      "execution_count": null,
      "outputs": []
    },
    {
      "cell_type": "code",
      "metadata": {
        "colab": {
          "base_uri": "https://localhost:8080/",
          "height": 47
        },
        "id": "ptRHD0Lk_Tnh",
        "outputId": "4b64376c-abc3-48ea-8f5b-a0220e1746a9"
      },
      "source": [
        "Ys = C*(s * sympy.eye(2) - A).inv()*B +D\n",
        "Ys"
      ],
      "execution_count": null,
      "outputs": [
        {
          "output_type": "execute_result",
          "data": {
            "text/plain": [
              "⎡           b⋅g                       e⋅(-d + s)                     b⋅h                       f⋅( ↪\n",
              "⎢────────────────────────── + ──────────────────────────  ────────────────────────── + ─────────── ↪\n",
              "⎢                         2                            2                           2               ↪\n",
              "⎣a⋅d - a⋅s - b⋅c - d⋅s + s    a⋅d - a⋅s - b⋅c - d⋅s + s   a⋅d - a⋅s - b⋅c - d⋅s + s    a⋅d - a⋅s - ↪\n",
              "\n",
              "↪ -d + s)        ⎤\n",
              "↪ ───────────────⎥\n",
              "↪               2⎥\n",
              "↪  b⋅c - d⋅s + s ⎦"
            ],
            "text/latex": "$\\displaystyle \\left[\\begin{matrix}\\frac{b g}{a d - a s - b c - d s + s^{2}} + \\frac{e \\left(- d + s\\right)}{a d - a s - b c - d s + s^{2}} & \\frac{b h}{a d - a s - b c - d s + s^{2}} + \\frac{f \\left(- d + s\\right)}{a d - a s - b c - d s + s^{2}}\\end{matrix}\\right]$"
          },
          "metadata": {},
          "execution_count": 15
        }
      ]
    },
    {
      "cell_type": "markdown",
      "metadata": {
        "id": "jhLtdz0a-RUF"
      },
      "source": [
        "We can do the same numerically instead:"
      ]
    },
    {
      "cell_type": "code",
      "metadata": {
        "colab": {
          "base_uri": "https://localhost:8080/"
        },
        "id": "Azm-4SVl82nx",
        "outputId": "01eab2c2-b8b1-4124-be0c-4bc3ade1ceed"
      },
      "source": [
        "from scipy.signal import ss2tf\n",
        "a, b, c, d, e, f, g, h = 1, 1, 1, 1, 1, 1, 1, 1\n",
        "\n",
        "A = [[a, b], [c, d]]\n",
        "B = [[e, f],[g, h]]\n",
        "C = [[1, 0]]\n",
        "D = [[0, 0]]\n",
        "ss2tf(A, B, C, D)"
      ],
      "execution_count": null,
      "outputs": [
        {
          "output_type": "execute_result",
          "data": {
            "text/plain": [
              "(array([[0., 1., 0.]]), array([ 1., -2.,  0.]))"
            ]
          },
          "metadata": {},
          "execution_count": 16
        }
      ]
    },
    {
      "cell_type": "markdown",
      "source": [
        "## **Exercises**\n",
        "> Convert following state space models to transfer function\n",
        "\n",
        "1. $$\n",
        "\\begin{cases}\n",
        "    \\dot{\\mathbf{x}} = \\begin{bmatrix} 0 & 1 \\\\ -7 & -5 \\end{bmatrix}\n",
        "    \\mathbf{x} +\n",
        "    \\begin{bmatrix} 1 \\\\ 1 \\end{bmatrix} u \\\\\n",
        "    y = \\begin{bmatrix} 1 & 1 \\end{bmatrix} \\mathbf{x}\n",
        "\\end{cases}\n",
        "$$\n",
        "\n",
        "2. $$\n",
        "\\begin{cases}\n",
        "    \\dot{\\mathbf{x}} = \\begin{bmatrix} 2 & -1 \\\\ 3 & -4 \\end{bmatrix}\n",
        "    \\mathbf{x} +\n",
        "    \\begin{bmatrix} 0 \\\\ 1 \\end{bmatrix} u \\\\\n",
        "    y = \\begin{bmatrix} 1 & 0 \\end{bmatrix} \\mathbf{x}\n",
        "\\end{cases}\n",
        "$$\n",
        "\n",
        "\n",
        "3. $$\n",
        "\\begin{cases}\n",
        "    \\dot{\\mathbf{x}} = \\begin{bmatrix} 0 & 10 \\\\ -3 & 5 \\end{bmatrix}\n",
        "    \\mathbf{x} +\n",
        "    \\begin{bmatrix} 2 \\\\ -1 \\end{bmatrix} u \\\\\n",
        "    y = \\begin{bmatrix} -1 & -1 \\end{bmatrix} \\mathbf{x}\n",
        "\\end{cases}\n",
        "$$\n",
        "\n",
        "4. $$\n",
        "\\begin{cases}\n",
        "    \\dot{\\mathbf{x}} =\n",
        "    \\begin{bmatrix}\n",
        "    0 & 2 & 0 \\\\\n",
        "    0 & 0 & 2 \\\\\n",
        "    8 & -20 & -1\n",
        "    \\end{bmatrix}\n",
        "    \\mathbf{x} +\n",
        "    \\begin{bmatrix} 2 \\\\ -1 \\\\ -3 \\end{bmatrix} u \\\\\n",
        "    y = \\begin{bmatrix} 1 & -1 & 1 \\end{bmatrix} \\mathbf{x}\n",
        "\\end{cases}\n",
        "$$\n",
        "\n",
        "5. $$\n",
        "\\begin{cases}\n",
        "    \\dot{\\mathbf{x}} =\n",
        "    \\begin{bmatrix}\n",
        "    0 & 1 & 0 \\\\\n",
        "    0 & 1 & 1 \\\\\n",
        "    4 & 11 & -20\n",
        "    \\end{bmatrix}\n",
        "    \\mathbf{x} +\n",
        "    \\begin{bmatrix} -1 \\\\ -1 \\\\ 0 \\end{bmatrix} u \\\\\n",
        "    y = \\begin{bmatrix} 0 & 0 & 1 \\end{bmatrix} \\mathbf{x}\n",
        "\\end{cases}\n",
        "$$\n",
        "\n",
        "6. $$\n",
        "\\begin{cases}\n",
        "    \\dot{\\mathbf{x}} =\n",
        "    \\begin{bmatrix}\n",
        "    0 & 1 & 1 \\\\\n",
        "    0 & 0 & 1 \\\\\n",
        "    -1 & 1 & 9\n",
        "    \\end{bmatrix}\n",
        "    \\mathbf{x} +\n",
        "    \\begin{bmatrix} 1 \\\\ 0 \\\\ 1 \\end{bmatrix} u \\\\\n",
        "    y = \\begin{bmatrix} 1 & -1 & 2 \\end{bmatrix} \\mathbf{x}\n",
        "\\end{cases}\n",
        "$$\n",
        "\n",
        "7. $$\n",
        "\\begin{cases}\n",
        "    \\dot{\\mathbf{x}} =\n",
        "    \\begin{bmatrix}\n",
        "    1 & 1 & 0 \\\\\n",
        "    1 & 0 & 1 \\\\\n",
        "    -3 & 2 & 10\n",
        "    \\end{bmatrix}\n",
        "    \\mathbf{x} +\n",
        "    \\begin{bmatrix} 2 \\\\ 2 \\\\ -1 \\end{bmatrix} u \\\\\n",
        "    y = \\begin{bmatrix} 0 & -1 & 0 \\end{bmatrix} \\mathbf{x}\n",
        "\\end{cases}\n",
        "$$\n",
        "\n",
        "8. $$\n",
        "\\begin{cases}\n",
        "    \\dot{\\mathbf{x}} =\n",
        "    \\begin{bmatrix}\n",
        "    0 & 1 & 0 \\\\\n",
        "    0 & 0 & 1 \\\\\n",
        "    0 & 1 & 5\n",
        "    \\end{bmatrix}\n",
        "    \\mathbf{x} +\n",
        "    \\begin{bmatrix} 0 \\\\ 0 \\\\ 1 \\end{bmatrix} u \\\\\n",
        "    y = \\begin{bmatrix} -10 & -10 & 0 \\end{bmatrix} \\mathbf{x}\n",
        "\\end{cases}\n",
        "$$"
      ],
      "metadata": {
        "id": "kyv_c59Sdfzg"
      }
    },
    {
      "cell_type": "markdown",
      "metadata": {
        "id": "5hHBY9f_-VuS"
      },
      "source": [
        "## **Homework exercises** for self-study\n",
        "> 1. Simulate the response of \"love\" system using transfer functions and state space approaches compare results. (you may use [this as reference](https://apmonitor.com/pdc/index.php/Main/ModelSimulation) )\n",
        "\n",
        "> 2. Considering the following ODE:\n",
        "> \\begin{equation}\n",
        "a_{n}y^{(n)} +a_{n-1}y^{(n-1)}+...+a_{2}\\ddot y+a_{1}\\dot y + a_0 y= u_{m}b^{(m)} +b_{m-1}u^{(m-1)}+...+b_{2}\\ddot u+b_{1}\\dot u + b_0 u\n",
        "\\end{equation}\n",
        ">With related transfer function:\n",
        "\\begin{equation}\n",
        "W(s) = \\frac{Y(s)}{U(s)} = \\frac{b_{m}s^{(m)} +b_{m-1}s^{(m-1)}+...+b_{2}s^2 +b_{1}s + b_0 }{a_{n}s^{(n)} +a_{n-1}s^{(n-1)}+...+a_{2} s^2 +a_{1}s  + a_0 }\n",
        "\\end{equation}\n",
        ">\n",
        ">where $Y(s) = \\mathcal{}$ $m\\leq n$ suggest a method to represent it in the equalient state space representation:\n",
        "\\begin{equation}\n",
        "\\begin{cases}\n",
        "\\dot{\\mathbf{x}} = \\mathbf{A}\\mathbf{x} + \\mathbf{B}\\mathbf{u} \\\\\n",
        "     \\mathbf{y}  = \\mathbf{C}\\mathbf{x} + \\mathbf{D}\\mathbf{u}\n",
        "\\end{cases}\n",
        "\\end{equation}\n",
        "and output $Y(s) = \\mathcal{L}\\{y\\} = \\mathcal{L}\\{\\mathbf{y}_1\\} =\\mathcal{L}\\{\\mathbf{x}_1\\}$\n",
        ">\n",
        ">Use [this link as reference](https://lpsa.swarthmore.edu/Representations/SysRepTransformations/TF2SS.html)\n"
      ]
    }
  ]
}